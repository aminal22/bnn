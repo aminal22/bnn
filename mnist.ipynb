{
  "cells": [
    {
      "cell_type": "markdown",
      "metadata": {
        "id": "view-in-github",
        "colab_type": "text"
      },
      "source": [
        "<a href=\"https://colab.research.google.com/github/aminal22/bnn/blob/main/mnist.ipynb\" target=\"_parent\"><img src=\"https://colab.research.google.com/assets/colab-badge.svg\" alt=\"Open In Colab\"/></a>"
      ]
    },
    {
      "cell_type": "markdown",
      "metadata": {
        "id": "bMgO26S3tnYk"
      },
      "source": []
    },
    {
      "cell_type": "code",
      "execution_count": 1,
      "metadata": {
        "colab": {
          "base_uri": "https://localhost:8080/"
        },
        "id": "VceDcRKstl56",
        "outputId": "87c22b7d-5d72-484b-a16e-e69ec2e0539c"
      },
      "outputs": [
        {
          "output_type": "stream",
          "name": "stdout",
          "text": [
            "Cloning into 'bnn'...\n",
            "remote: Enumerating objects: 95, done.\u001b[K\n",
            "remote: Counting objects: 100% (39/39), done.\u001b[K\n",
            "remote: Compressing objects: 100% (29/29), done.\u001b[K\n",
            "remote: Total 95 (delta 20), reused 27 (delta 10), pack-reused 56 (from 1)\u001b[K\n",
            "Receiving objects: 100% (95/95), 164.40 MiB | 19.33 MiB/s, done.\n",
            "Resolving deltas: 100% (26/26), done.\n",
            "Updating files: 100% (39/39), done.\n"
          ]
        }
      ],
      "source": [
        "  ! git clone https://github.com/aminal22/bnn.git"
      ]
    },
    {
      "cell_type": "code",
      "execution_count": 2,
      "metadata": {
        "colab": {
          "base_uri": "https://localhost:8080/"
        },
        "id": "UNdjLdscttq4",
        "outputId": "66933a13-7188-4e01-900e-7caba592c789"
      },
      "outputs": [
        {
          "output_type": "stream",
          "name": "stdout",
          "text": [
            "\u001b[0m\u001b[01;34mbnn\u001b[0m/  \u001b[01;34msample_data\u001b[0m/\n"
          ]
        }
      ],
      "source": [
        "ls"
      ]
    },
    {
      "cell_type": "code",
      "source": [
        "cd bnn/\n"
      ],
      "metadata": {
        "colab": {
          "base_uri": "https://localhost:8080/"
        },
        "id": "1FRVu6pU8ly2",
        "outputId": "d8b434a5-dc23-4549-be82-1fa4178343d3"
      },
      "execution_count": 4,
      "outputs": [
        {
          "output_type": "stream",
          "name": "stdout",
          "text": [
            "/content/bnn\n"
          ]
        }
      ]
    },
    {
      "cell_type": "code",
      "source": [
        "cd modele1/"
      ],
      "metadata": {
        "colab": {
          "base_uri": "https://localhost:8080/"
        },
        "id": "TlY3pScF8o5G",
        "outputId": "5d8ee43e-5d82-4d41-8509-bf5d2f12d974"
      },
      "execution_count": 7,
      "outputs": [
        {
          "output_type": "stream",
          "name": "stdout",
          "text": [
            "/content/bnn/modele1\n"
          ]
        }
      ]
    },
    {
      "cell_type": "code",
      "source": [
        "cd MNIST/"
      ],
      "metadata": {
        "colab": {
          "base_uri": "https://localhost:8080/"
        },
        "id": "nNMrL4YJ9CH6",
        "outputId": "f3440001-13d5-4e07-a084-f6aa27ea51b0"
      },
      "execution_count": 9,
      "outputs": [
        {
          "output_type": "stream",
          "name": "stdout",
          "text": [
            "/content/bnn/modele1/MNIST\n"
          ]
        }
      ]
    },
    {
      "cell_type": "code",
      "source": [
        "ls"
      ],
      "metadata": {
        "colab": {
          "base_uri": "https://localhost:8080/"
        },
        "id": "JPqyvFJLYBPY",
        "outputId": "4dc968c2-dd4b-415b-f572-e4de3786ceac"
      },
      "execution_count": 10,
      "outputs": [
        {
          "output_type": "stream",
          "name": "stdout",
          "text": [
            "huit.jpg  main.py  \u001b[0m\u001b[01;34mmodels\u001b[0m/  nbre3.png  quatre.jpg  Test.py  util.py\n"
          ]
        }
      ]
    },
    {
      "cell_type": "code",
      "source": [
        "! python main.py"
      ],
      "metadata": {
        "colab": {
          "base_uri": "https://localhost:8080/"
        },
        "id": "4Tv1byNTRIys",
        "outputId": "c6610a9c-ea18-4782-b124-92ac63d8bdc1"
      },
      "execution_count": null,
      "outputs": [
        {
          "output_type": "stream",
          "name": "stdout",
          "text": [
            "Namespace(batch_size=128, test_batch_size=128, epochs=60, lr_epochs=15, lr=0.01, momentum=0.9, weight_decay=1e-05, no_cuda=False, seed=1, log_interval=100, arch='LeNet_5', pretrained=None, evaluate=False, cuda=True)\n",
            "Downloading http://yann.lecun.com/exdb/mnist/train-images-idx3-ubyte.gz\n",
            "Failed to download (trying next):\n",
            "HTTP Error 403: Forbidden\n",
            "\n",
            "Downloading https://ossci-datasets.s3.amazonaws.com/mnist/train-images-idx3-ubyte.gz\n",
            "Downloading https://ossci-datasets.s3.amazonaws.com/mnist/train-images-idx3-ubyte.gz to data/MNIST/raw/train-images-idx3-ubyte.gz\n",
            "100% 9.91M/9.91M [00:00<00:00, 16.2MB/s]\n",
            "Extracting data/MNIST/raw/train-images-idx3-ubyte.gz to data/MNIST/raw\n",
            "\n",
            "Downloading http://yann.lecun.com/exdb/mnist/train-labels-idx1-ubyte.gz\n",
            "Failed to download (trying next):\n",
            "HTTP Error 403: Forbidden\n",
            "\n",
            "Downloading https://ossci-datasets.s3.amazonaws.com/mnist/train-labels-idx1-ubyte.gz\n",
            "Downloading https://ossci-datasets.s3.amazonaws.com/mnist/train-labels-idx1-ubyte.gz to data/MNIST/raw/train-labels-idx1-ubyte.gz\n",
            "100% 28.9k/28.9k [00:00<00:00, 484kB/s]\n",
            "Extracting data/MNIST/raw/train-labels-idx1-ubyte.gz to data/MNIST/raw\n",
            "\n",
            "Downloading http://yann.lecun.com/exdb/mnist/t10k-images-idx3-ubyte.gz\n",
            "Failed to download (trying next):\n",
            "HTTP Error 403: Forbidden\n",
            "\n",
            "Downloading https://ossci-datasets.s3.amazonaws.com/mnist/t10k-images-idx3-ubyte.gz\n",
            "Downloading https://ossci-datasets.s3.amazonaws.com/mnist/t10k-images-idx3-ubyte.gz to data/MNIST/raw/t10k-images-idx3-ubyte.gz\n",
            "100% 1.65M/1.65M [00:00<00:00, 4.58MB/s]\n",
            "Extracting data/MNIST/raw/t10k-images-idx3-ubyte.gz to data/MNIST/raw\n",
            "\n",
            "Downloading http://yann.lecun.com/exdb/mnist/t10k-labels-idx1-ubyte.gz\n",
            "Failed to download (trying next):\n",
            "HTTP Error 403: Forbidden\n",
            "\n",
            "Downloading https://ossci-datasets.s3.amazonaws.com/mnist/t10k-labels-idx1-ubyte.gz\n",
            "Downloading https://ossci-datasets.s3.amazonaws.com/mnist/t10k-labels-idx1-ubyte.gz to data/MNIST/raw/t10k-labels-idx1-ubyte.gz\n",
            "100% 4.54k/4.54k [00:00<00:00, 20.0MB/s]\n",
            "Extracting data/MNIST/raw/t10k-labels-idx1-ubyte.gz to data/MNIST/raw\n",
            "\n",
            "LeNet_5(\n",
            "  (conv1): Conv2d(1, 20, kernel_size=(5, 5), stride=(1, 1))\n",
            "  (bn_conv1): BatchNorm2d(20, eps=0.0001, momentum=0.1, affine=False, track_running_stats=True)\n",
            "  (relu_conv1): ReLU(inplace=True)\n",
            "  (pool1): MaxPool2d(kernel_size=2, stride=2, padding=0, dilation=1, ceil_mode=False)\n",
            "  (bin_conv2): BinConv2d(\n",
            "    (bn): BatchNorm2d(20, eps=0.0001, momentum=0.1, affine=True, track_running_stats=True)\n",
            "    (conv): Conv2d(20, 50, kernel_size=(5, 5), stride=(1, 1))\n",
            "    (relu): ReLU(inplace=True)\n",
            "  )\n",
            "  (pool2): MaxPool2d(kernel_size=2, stride=2, padding=0, dilation=1, ceil_mode=False)\n",
            "  (bin_ip1): BinConv2d(\n",
            "    (bn): BatchNorm1d(800, eps=0.0001, momentum=0.1, affine=True, track_running_stats=True)\n",
            "    (linear): Linear(in_features=800, out_features=500, bias=True)\n",
            "    (relu): ReLU(inplace=True)\n",
            "  )\n",
            "  (ip2): Linear(in_features=500, out_features=10, bias=True)\n",
            ")\n",
            "Learning rate: 0.01\n",
            "/content/bnn/modele1/MNIST/util.py:78: UserWarning: Use of index_put_ on expanded tensors is deprecated. Please clone() the tensor before performing this operation. This also applies to advanced indexing e.g. tensor[indices] = tensor (Triggered internally at ../aten/src/ATen/native/TensorAdvancedIndexing.cpp:792.)\n",
            "  m[weight.lt(-1.0)] = 0\n",
            "/content/bnn/modele1/MNIST/util.py:78: UserWarning: Use of masked_fill_ on expanded tensors is deprecated. Please clone() the tensor before performing this operation. This also applies to advanced indexing e.g. tensor[mask] = scalar (Triggered internally at ../aten/src/ATen/native/cuda/Indexing.cu:1597.)\n",
            "  m[weight.lt(-1.0)] = 0\n",
            "/content/bnn/modele1/MNIST/util.py:79: UserWarning: Use of index_put_ on expanded tensors is deprecated. Please clone() the tensor before performing this operation. This also applies to advanced indexing e.g. tensor[indices] = tensor (Triggered internally at ../aten/src/ATen/native/TensorAdvancedIndexing.cpp:792.)\n",
            "  m[weight.gt(1.0)] = 0\n",
            "/content/bnn/modele1/MNIST/util.py:79: UserWarning: Use of masked_fill_ on expanded tensors is deprecated. Please clone() the tensor before performing this operation. This also applies to advanced indexing e.g. tensor[mask] = scalar (Triggered internally at ../aten/src/ATen/native/cuda/Indexing.cu:1597.)\n",
            "  m[weight.gt(1.0)] = 0\n",
            "Train Epoch: 1 [0/60000 (0%)]\tLoss: 2.307908\n",
            "Train Epoch: 1 [12800/60000 (21%)]\tLoss: 0.165429\n",
            "Train Epoch: 1 [25600/60000 (43%)]\tLoss: 0.323110\n",
            "Train Epoch: 1 [38400/60000 (64%)]\tLoss: 0.167204\n",
            "Train Epoch: 1 [51200/60000 (85%)]\tLoss: 0.121548\n",
            "==> Saving model ...\n",
            "\n",
            "Test set: Average loss: 0.1172, Accuracy: 9673/10000 (96.73%)\n",
            "Best Accuracy: 96.73%\n",
            "\n",
            "Learning rate: 0.01\n",
            "Train Epoch: 2 [0/60000 (0%)]\tLoss: 0.108486\n",
            "Train Epoch: 2 [12800/60000 (21%)]\tLoss: 0.145432\n",
            "Train Epoch: 2 [25600/60000 (43%)]\tLoss: 0.108871\n",
            "Train Epoch: 2 [38400/60000 (64%)]\tLoss: 0.141767\n",
            "Train Epoch: 2 [51200/60000 (85%)]\tLoss: 0.158073\n",
            "==> Saving model ...\n",
            "\n",
            "Test set: Average loss: 0.1038, Accuracy: 9689/10000 (96.89%)\n",
            "Best Accuracy: 96.89%\n",
            "\n",
            "Learning rate: 0.01\n",
            "Train Epoch: 3 [0/60000 (0%)]\tLoss: 0.049585\n",
            "Train Epoch: 3 [12800/60000 (21%)]\tLoss: 0.084608\n",
            "Train Epoch: 3 [25600/60000 (43%)]\tLoss: 0.115069\n",
            "Train Epoch: 3 [38400/60000 (64%)]\tLoss: 0.130952\n",
            "Train Epoch: 3 [51200/60000 (85%)]\tLoss: 0.126365\n",
            "==> Saving model ...\n",
            "\n",
            "Test set: Average loss: 0.1152, Accuracy: 9695/10000 (96.95%)\n",
            "Best Accuracy: 96.95%\n",
            "\n",
            "Learning rate: 0.01\n",
            "Train Epoch: 4 [0/60000 (0%)]\tLoss: 0.093340\n",
            "Train Epoch: 4 [12800/60000 (21%)]\tLoss: 0.075357\n",
            "Train Epoch: 4 [25600/60000 (43%)]\tLoss: 0.076696\n",
            "Train Epoch: 4 [38400/60000 (64%)]\tLoss: 0.250849\n",
            "Train Epoch: 4 [51200/60000 (85%)]\tLoss: 0.060217\n",
            "==> Saving model ...\n",
            "\n",
            "Test set: Average loss: 0.0917, Accuracy: 9750/10000 (97.50%)\n",
            "Best Accuracy: 97.50%\n",
            "\n",
            "Learning rate: 0.01\n",
            "Train Epoch: 5 [0/60000 (0%)]\tLoss: 0.129309\n",
            "Train Epoch: 5 [12800/60000 (21%)]\tLoss: 0.113107\n",
            "Train Epoch: 5 [25600/60000 (43%)]\tLoss: 0.041486\n",
            "Train Epoch: 5 [38400/60000 (64%)]\tLoss: 0.047305\n",
            "Train Epoch: 5 [51200/60000 (85%)]\tLoss: 0.099893\n",
            "==> Saving model ...\n",
            "\n",
            "Test set: Average loss: 0.0807, Accuracy: 9780/10000 (97.80%)\n",
            "Best Accuracy: 97.80%\n",
            "\n",
            "Learning rate: 0.01\n",
            "Train Epoch: 6 [0/60000 (0%)]\tLoss: 0.074105\n",
            "Train Epoch: 6 [12800/60000 (21%)]\tLoss: 0.137203\n",
            "Train Epoch: 6 [25600/60000 (43%)]\tLoss: 0.105168\n",
            "Train Epoch: 6 [38400/60000 (64%)]\tLoss: 0.068424\n",
            "Train Epoch: 6 [51200/60000 (85%)]\tLoss: 0.060033\n",
            "\n",
            "Test set: Average loss: 0.0988, Accuracy: 9769/10000 (97.69%)\n",
            "Best Accuracy: 97.80%\n",
            "\n",
            "Learning rate: 0.01\n",
            "Train Epoch: 7 [0/60000 (0%)]\tLoss: 0.068243\n",
            "Train Epoch: 7 [12800/60000 (21%)]\tLoss: 0.108098\n",
            "Train Epoch: 7 [25600/60000 (43%)]\tLoss: 0.027535\n",
            "Train Epoch: 7 [38400/60000 (64%)]\tLoss: 0.020486\n",
            "Train Epoch: 7 [51200/60000 (85%)]\tLoss: 0.111884\n",
            "\n",
            "Test set: Average loss: 0.1802, Accuracy: 9548/10000 (95.48%)\n",
            "Best Accuracy: 97.80%\n",
            "\n",
            "Learning rate: 0.01\n",
            "Train Epoch: 8 [0/60000 (0%)]\tLoss: 0.090269\n",
            "Train Epoch: 8 [12800/60000 (21%)]\tLoss: 0.143574\n",
            "Train Epoch: 8 [25600/60000 (43%)]\tLoss: 0.175600\n",
            "Train Epoch: 8 [38400/60000 (64%)]\tLoss: 0.065302\n",
            "Train Epoch: 8 [51200/60000 (85%)]\tLoss: 0.054708\n",
            "\n",
            "Test set: Average loss: 0.1317, Accuracy: 9690/10000 (96.90%)\n",
            "Best Accuracy: 97.80%\n",
            "\n",
            "Learning rate: 0.01\n",
            "Train Epoch: 9 [0/60000 (0%)]\tLoss: 0.025131\n",
            "Train Epoch: 9 [12800/60000 (21%)]\tLoss: 0.032414\n",
            "Train Epoch: 9 [25600/60000 (43%)]\tLoss: 0.032922\n",
            "Train Epoch: 9 [38400/60000 (64%)]\tLoss: 0.075822\n",
            "Train Epoch: 9 [51200/60000 (85%)]\tLoss: 0.114167\n",
            "==> Saving model ...\n",
            "\n",
            "Test set: Average loss: 0.0918, Accuracy: 9792/10000 (97.92%)\n",
            "Best Accuracy: 97.92%\n",
            "\n",
            "Learning rate: 0.01\n",
            "Train Epoch: 10 [0/60000 (0%)]\tLoss: 0.061950\n",
            "Train Epoch: 10 [12800/60000 (21%)]\tLoss: 0.117364\n",
            "Train Epoch: 10 [25600/60000 (43%)]\tLoss: 0.171646\n",
            "Train Epoch: 10 [38400/60000 (64%)]\tLoss: 0.035039\n",
            "Train Epoch: 10 [51200/60000 (85%)]\tLoss: 0.055199\n",
            "==> Saving model ...\n",
            "\n",
            "Test set: Average loss: 0.0721, Accuracy: 9813/10000 (98.13%)\n",
            "Best Accuracy: 98.13%\n",
            "\n",
            "Learning rate: 0.01\n",
            "Train Epoch: 11 [0/60000 (0%)]\tLoss: 0.141572\n"
          ]
        }
      ]
    }
  ],
  "metadata": {
    "accelerator": "GPU",
    "colab": {
      "gpuType": "T4",
      "provenance": [],
      "toc_visible": true,
      "authorship_tag": "ABX9TyN3FbFMjlBiCboPxQwxGjbJ",
      "include_colab_link": true
    },
    "kernelspec": {
      "display_name": "Python 3",
      "name": "python3"
    },
    "language_info": {
      "name": "python"
    }
  },
  "nbformat": 4,
  "nbformat_minor": 0
}